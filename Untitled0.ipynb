{
  "nbformat": 4,
  "nbformat_minor": 0,
  "metadata": {
    "colab": {
      "provenance": [],
      "authorship_tag": "ABX9TyOOI2OlI6Z1V3oN3YuiZbl8",
      "include_colab_link": true
    },
    "kernelspec": {
      "name": "python3",
      "display_name": "Python 3"
    },
    "language_info": {
      "name": "python"
    }
  },
  "cells": [
    {
      "cell_type": "markdown",
      "metadata": {
        "id": "view-in-github",
        "colab_type": "text"
      },
      "source": [
        "<a href=\"https://colab.research.google.com/github/BamTiss/BamTiss/blob/main/Untitled0.ipynb\" target=\"_parent\"><img src=\"https://colab.research.google.com/assets/colab-badge.svg\" alt=\"Open In Colab\"/></a>"
      ]
    },
    {
      "cell_type": "code",
      "execution_count": 1,
      "metadata": {
        "id": "oIHaRordFsNP"
      },
      "outputs": [],
      "source": [
        "import numpy as np\n",
        "import pandas as pd\n",
        "from matplotlib import pyplot as plt\n",
        "from sklearn.datasets import make_blobs\n",
        "import plotly\n",
        "import plotly.graph_objs as go"
      ]
    },
    {
      "cell_type": "code",
      "source": [
        "def create_nn_model(x, y, l):\n",
        "    input_layer = x\n",
        "    weights1 = np.random.uniform(-1, 1, (input_layer.shape[1], 4))\n",
        "\n",
        "    weights2 = np.random.uniform(-1, 1, (4, 1))\n",
        "    label = y\n",
        "    output_layer = np.zeros(y.shape)\n",
        "    learning_rate = l\n",
        "\n",
        "    return {'input_layer': input_layer, 'weights1': weights1, 'weights2': weights2, 'label': label, 'output_layer': output_layer, 'learning_rate': learning_rate}"
      ],
      "metadata": {
        "id": "X10t495VF0pU"
      },
      "execution_count": 3,
      "outputs": []
    },
    {
      "cell_type": "code",
      "source": [
        "x, y = make_blobs(n_samples=10, centers=2, n_features=3)\n",
        "\n",
        "y = np.expand_dims(y, axis=1)\n",
        "x.shape, y.shape"
      ],
      "metadata": {
        "colab": {
          "base_uri": "https://localhost:8080/"
        },
        "id": "lgE6M6qxF32R",
        "outputId": "d189b87a-9e0b-4a1b-b58a-0f14028da202"
      },
      "execution_count": 4,
      "outputs": [
        {
          "output_type": "execute_result",
          "data": {
            "text/plain": [
              "((10, 3), (10, 1))"
            ]
          },
          "metadata": {},
          "execution_count": 4
        }
      ]
    },
    {
      "cell_type": "code",
      "source": [
        "learning_rate = 0.1\n",
        "\n",
        "model = create_nn_model(x, y, learning_rate)"
      ],
      "metadata": {
        "id": "uCr_CE_wF-V5"
      },
      "execution_count": 5,
      "outputs": []
    },
    {
      "cell_type": "code",
      "source": [
        "model['input_layer'].shape"
      ],
      "metadata": {
        "colab": {
          "base_uri": "https://localhost:8080/"
        },
        "id": "0hSfGt4nGJ0T",
        "outputId": "48b06106-4ac8-4fb6-e1a4-4f35019c3c99"
      },
      "execution_count": 6,
      "outputs": [
        {
          "output_type": "execute_result",
          "data": {
            "text/plain": [
              "(10, 3)"
            ]
          },
          "metadata": {},
          "execution_count": 6
        }
      ]
    },
    {
      "cell_type": "code",
      "source": [
        "model['input_layer']"
      ],
      "metadata": {
        "colab": {
          "base_uri": "https://localhost:8080/"
        },
        "id": "tlz2RhRjGMb-",
        "outputId": "dea1312f-1cd2-4a09-f79f-1bc2dc677821"
      },
      "execution_count": 7,
      "outputs": [
        {
          "output_type": "execute_result",
          "data": {
            "text/plain": [
              "array([[ 5.74224427,  1.70636756, -0.747176  ],\n",
              "       [ 6.71153987, -4.96677996, -4.8182185 ],\n",
              "       [ 7.19833347,  1.84689884, -0.67860648],\n",
              "       [ 4.76739957, -2.10213525, -5.15781121],\n",
              "       [ 7.82538964,  3.51828354, -0.80584043],\n",
              "       [ 6.17950605, -2.23633529, -3.70610828],\n",
              "       [ 6.86933696, -4.68926831, -2.66576135],\n",
              "       [ 5.73432659, -1.36750932, -5.3808517 ],\n",
              "       [ 6.93237292,  3.02147434, -1.19512729],\n",
              "       [ 7.72434772,  2.87673263, -2.24450306]])"
            ]
          },
          "metadata": {},
          "execution_count": 7
        }
      ]
    },
    {
      "cell_type": "code",
      "source": [
        "model['weights1'].shape"
      ],
      "metadata": {
        "colab": {
          "base_uri": "https://localhost:8080/"
        },
        "id": "BlO5_JAoGPFH",
        "outputId": "d40c61d7-8b2e-49a1-de5e-eaedd80f60d7"
      },
      "execution_count": 8,
      "outputs": [
        {
          "output_type": "execute_result",
          "data": {
            "text/plain": [
              "(3, 4)"
            ]
          },
          "metadata": {},
          "execution_count": 8
        }
      ]
    },
    {
      "cell_type": "code",
      "source": [
        "model['weights1']"
      ],
      "metadata": {
        "colab": {
          "base_uri": "https://localhost:8080/"
        },
        "id": "1mBwOoAQGlBO",
        "outputId": "a5fede30-29d9-43ea-fb68-2eef7cdfc054"
      },
      "execution_count": 9,
      "outputs": [
        {
          "output_type": "execute_result",
          "data": {
            "text/plain": [
              "array([[-0.24130119, -0.06457969, -0.112443  , -0.92096783],\n",
              "       [ 0.99917781, -0.86248542, -0.1299553 ,  0.84824791],\n",
              "       [ 0.03188372, -0.4988486 , -0.31259948,  0.63918194]])"
            ]
          },
          "metadata": {},
          "execution_count": 9
        }
      ]
    },
    {
      "cell_type": "code",
      "source": [
        "model['weights2'].shape"
      ],
      "metadata": {
        "colab": {
          "base_uri": "https://localhost:8080/"
        },
        "id": "Bhneich6Gm4h",
        "outputId": "c36bfbca-e60a-4095-a08a-f3dd98a086b1"
      },
      "execution_count": 10,
      "outputs": [
        {
          "output_type": "execute_result",
          "data": {
            "text/plain": [
              "(4, 1)"
            ]
          },
          "metadata": {},
          "execution_count": 10
        }
      ]
    },
    {
      "cell_type": "code",
      "source": [
        "model['weights2']"
      ],
      "metadata": {
        "colab": {
          "base_uri": "https://localhost:8080/"
        },
        "id": "VHV6WvRtHIYN",
        "outputId": "1f9ce178-99fb-4896-d109-a267eca11fa6"
      },
      "execution_count": 11,
      "outputs": [
        {
          "output_type": "execute_result",
          "data": {
            "text/plain": [
              "array([[ 0.75568619],\n",
              "       [-0.6806583 ],\n",
              "       [ 0.94591132],\n",
              "       [-0.0565236 ]])"
            ]
          },
          "metadata": {},
          "execution_count": 11
        }
      ]
    },
    {
      "cell_type": "code",
      "source": [
        "model['label'].shape"
      ],
      "metadata": {
        "colab": {
          "base_uri": "https://localhost:8080/"
        },
        "id": "nLzHj6eUHKRk",
        "outputId": "1bd0c475-8a85-41e8-d0b6-d2d3abad3511"
      },
      "execution_count": 12,
      "outputs": [
        {
          "output_type": "execute_result",
          "data": {
            "text/plain": [
              "(10, 1)"
            ]
          },
          "metadata": {},
          "execution_count": 12
        }
      ]
    },
    {
      "cell_type": "code",
      "source": [
        "model['output_layer'].shape"
      ],
      "metadata": {
        "colab": {
          "base_uri": "https://localhost:8080/"
        },
        "id": "-M2odsnpHMEm",
        "outputId": "10ea1f94-3327-4ed9-a9ee-d387eb026924"
      },
      "execution_count": 13,
      "outputs": [
        {
          "output_type": "execute_result",
          "data": {
            "text/plain": [
              "(10, 1)"
            ]
          },
          "metadata": {},
          "execution_count": 13
        }
      ]
    },
    {
      "cell_type": "code",
      "source": [
        "model['output_layer'] #ŷ"
      ],
      "metadata": {
        "colab": {
          "base_uri": "https://localhost:8080/"
        },
        "id": "rp9lVylNHPln",
        "outputId": "659209cd-3412-437f-b6b5-0da6facb76ec"
      },
      "execution_count": 14,
      "outputs": [
        {
          "output_type": "execute_result",
          "data": {
            "text/plain": [
              "array([[0.],\n",
              "       [0.],\n",
              "       [0.],\n",
              "       [0.],\n",
              "       [0.],\n",
              "       [0.],\n",
              "       [0.],\n",
              "       [0.],\n",
              "       [0.],\n",
              "       [0.]])"
            ]
          },
          "metadata": {},
          "execution_count": 14
        }
      ]
    },
    {
      "cell_type": "code",
      "source": [
        "def sigmoid(x):\n",
        "    return 1.0/(1+ np.exp(-x))\n",
        "\n",
        "def sigmoid_derivative(x):\n",
        "    return x * (1.0 - x)"
      ],
      "metadata": {
        "id": "tlrAxqcYHR4z"
      },
      "execution_count": 15,
      "outputs": []
    },
    {
      "cell_type": "code",
      "source": [
        "def loss(model):\n",
        "    return sum((model['label'] - model['output_layer'])**2)"
      ],
      "metadata": {
        "id": "QH999FkuHUl3"
      },
      "execution_count": 16,
      "outputs": []
    },
    {
      "cell_type": "code",
      "source": [
        "def feedforward(model):\n",
        "    model['layer1'] = sigmoid(np.dot(model['input_layer'], model['weights1']))\n",
        "    model['output_layer'] = sigmoid(np.dot(model['layer1'], model['weights2']))"
      ],
      "metadata": {
        "id": "mHuGR4DLHZSO"
      },
      "execution_count": 17,
      "outputs": []
    },
    {
      "cell_type": "code",
      "source": [
        "def backprop(model):\n",
        "    d_weights2 = np.dot(model['layer1'].T, (-2*(model['label']- model['output_layer']) * sigmoid_derivative(model['output_layer'])))\n",
        "    d_weights1 = np.dot(model['input_layer'].T,  (np.dot(-2*(model['label'] - model['output_layer']) * sigmoid_derivative(model['output_layer']), model['weights2'].T) * sigmoid_derivative(model['layer1'])))\n",
        "\n",
        "    model['weights2'] -= model['learning_rate']*d_weights2\n",
        "    model['weights1'] -= model['learning_rate']*d_weights1"
      ],
      "metadata": {
        "id": "STL0dMsAHcZ4"
      },
      "execution_count": 18,
      "outputs": []
    },
    {
      "cell_type": "code",
      "source": [
        "history=[]\n",
        "epoch = 500\n",
        "\n",
        "for i in range(epoch):\n",
        "    feedforward(model)\n",
        "    backprop(model)\n",
        "    history.append(loss(model))"
      ],
      "metadata": {
        "id": "F_QoYMsiHtZq"
      },
      "execution_count": 19,
      "outputs": []
    },
    {
      "cell_type": "code",
      "source": [
        "df = pd.DataFrame(history, columns=['loss'])\n",
        "df.head()"
      ],
      "metadata": {
        "colab": {
          "base_uri": "https://localhost:8080/",
          "height": 206
        },
        "id": "rg4GzW7AH_0y",
        "outputId": "de0e2623-3a29-46f1-9ee2-cb75d382ed9f"
      },
      "execution_count": 20,
      "outputs": [
        {
          "output_type": "execute_result",
          "data": {
            "text/plain": [
              "       loss\n",
              "0  1.841857\n",
              "1  1.405454\n",
              "2  1.099786\n",
              "3  0.937993\n",
              "4  0.829282"
            ],
            "text/html": [
              "\n",
              "  <div id=\"df-f46b6b6e-3964-4808-9ee3-717809e820a4\" class=\"colab-df-container\">\n",
              "    <div>\n",
              "<style scoped>\n",
              "    .dataframe tbody tr th:only-of-type {\n",
              "        vertical-align: middle;\n",
              "    }\n",
              "\n",
              "    .dataframe tbody tr th {\n",
              "        vertical-align: top;\n",
              "    }\n",
              "\n",
              "    .dataframe thead th {\n",
              "        text-align: right;\n",
              "    }\n",
              "</style>\n",
              "<table border=\"1\" class=\"dataframe\">\n",
              "  <thead>\n",
              "    <tr style=\"text-align: right;\">\n",
              "      <th></th>\n",
              "      <th>loss</th>\n",
              "    </tr>\n",
              "  </thead>\n",
              "  <tbody>\n",
              "    <tr>\n",
              "      <th>0</th>\n",
              "      <td>1.841857</td>\n",
              "    </tr>\n",
              "    <tr>\n",
              "      <th>1</th>\n",
              "      <td>1.405454</td>\n",
              "    </tr>\n",
              "    <tr>\n",
              "      <th>2</th>\n",
              "      <td>1.099786</td>\n",
              "    </tr>\n",
              "    <tr>\n",
              "      <th>3</th>\n",
              "      <td>0.937993</td>\n",
              "    </tr>\n",
              "    <tr>\n",
              "      <th>4</th>\n",
              "      <td>0.829282</td>\n",
              "    </tr>\n",
              "  </tbody>\n",
              "</table>\n",
              "</div>\n",
              "    <div class=\"colab-df-buttons\">\n",
              "\n",
              "  <div class=\"colab-df-container\">\n",
              "    <button class=\"colab-df-convert\" onclick=\"convertToInteractive('df-f46b6b6e-3964-4808-9ee3-717809e820a4')\"\n",
              "            title=\"Convert this dataframe to an interactive table.\"\n",
              "            style=\"display:none;\">\n",
              "\n",
              "  <svg xmlns=\"http://www.w3.org/2000/svg\" height=\"24px\" viewBox=\"0 -960 960 960\">\n",
              "    <path d=\"M120-120v-720h720v720H120Zm60-500h600v-160H180v160Zm220 220h160v-160H400v160Zm0 220h160v-160H400v160ZM180-400h160v-160H180v160Zm440 0h160v-160H620v160ZM180-180h160v-160H180v160Zm440 0h160v-160H620v160Z\"/>\n",
              "  </svg>\n",
              "    </button>\n",
              "\n",
              "  <style>\n",
              "    .colab-df-container {\n",
              "      display:flex;\n",
              "      gap: 12px;\n",
              "    }\n",
              "\n",
              "    .colab-df-convert {\n",
              "      background-color: #E8F0FE;\n",
              "      border: none;\n",
              "      border-radius: 50%;\n",
              "      cursor: pointer;\n",
              "      display: none;\n",
              "      fill: #1967D2;\n",
              "      height: 32px;\n",
              "      padding: 0 0 0 0;\n",
              "      width: 32px;\n",
              "    }\n",
              "\n",
              "    .colab-df-convert:hover {\n",
              "      background-color: #E2EBFA;\n",
              "      box-shadow: 0px 1px 2px rgba(60, 64, 67, 0.3), 0px 1px 3px 1px rgba(60, 64, 67, 0.15);\n",
              "      fill: #174EA6;\n",
              "    }\n",
              "\n",
              "    .colab-df-buttons div {\n",
              "      margin-bottom: 4px;\n",
              "    }\n",
              "\n",
              "    [theme=dark] .colab-df-convert {\n",
              "      background-color: #3B4455;\n",
              "      fill: #D2E3FC;\n",
              "    }\n",
              "\n",
              "    [theme=dark] .colab-df-convert:hover {\n",
              "      background-color: #434B5C;\n",
              "      box-shadow: 0px 1px 3px 1px rgba(0, 0, 0, 0.15);\n",
              "      filter: drop-shadow(0px 1px 2px rgba(0, 0, 0, 0.3));\n",
              "      fill: #FFFFFF;\n",
              "    }\n",
              "  </style>\n",
              "\n",
              "    <script>\n",
              "      const buttonEl =\n",
              "        document.querySelector('#df-f46b6b6e-3964-4808-9ee3-717809e820a4 button.colab-df-convert');\n",
              "      buttonEl.style.display =\n",
              "        google.colab.kernel.accessAllowed ? 'block' : 'none';\n",
              "\n",
              "      async function convertToInteractive(key) {\n",
              "        const element = document.querySelector('#df-f46b6b6e-3964-4808-9ee3-717809e820a4');\n",
              "        const dataTable =\n",
              "          await google.colab.kernel.invokeFunction('convertToInteractive',\n",
              "                                                    [key], {});\n",
              "        if (!dataTable) return;\n",
              "\n",
              "        const docLinkHtml = 'Like what you see? Visit the ' +\n",
              "          '<a target=\"_blank\" href=https://colab.research.google.com/notebooks/data_table.ipynb>data table notebook</a>'\n",
              "          + ' to learn more about interactive tables.';\n",
              "        element.innerHTML = '';\n",
              "        dataTable['output_type'] = 'display_data';\n",
              "        await google.colab.output.renderOutput(dataTable, element);\n",
              "        const docLink = document.createElement('div');\n",
              "        docLink.innerHTML = docLinkHtml;\n",
              "        element.appendChild(docLink);\n",
              "      }\n",
              "    </script>\n",
              "  </div>\n",
              "\n",
              "\n",
              "<div id=\"df-47419b48-3917-437e-a577-56ac9aa4cb69\">\n",
              "  <button class=\"colab-df-quickchart\" onclick=\"quickchart('df-47419b48-3917-437e-a577-56ac9aa4cb69')\"\n",
              "            title=\"Suggest charts\"\n",
              "            style=\"display:none;\">\n",
              "\n",
              "<svg xmlns=\"http://www.w3.org/2000/svg\" height=\"24px\"viewBox=\"0 0 24 24\"\n",
              "     width=\"24px\">\n",
              "    <g>\n",
              "        <path d=\"M19 3H5c-1.1 0-2 .9-2 2v14c0 1.1.9 2 2 2h14c1.1 0 2-.9 2-2V5c0-1.1-.9-2-2-2zM9 17H7v-7h2v7zm4 0h-2V7h2v10zm4 0h-2v-4h2v4z\"/>\n",
              "    </g>\n",
              "</svg>\n",
              "  </button>\n",
              "\n",
              "<style>\n",
              "  .colab-df-quickchart {\n",
              "      --bg-color: #E8F0FE;\n",
              "      --fill-color: #1967D2;\n",
              "      --hover-bg-color: #E2EBFA;\n",
              "      --hover-fill-color: #174EA6;\n",
              "      --disabled-fill-color: #AAA;\n",
              "      --disabled-bg-color: #DDD;\n",
              "  }\n",
              "\n",
              "  [theme=dark] .colab-df-quickchart {\n",
              "      --bg-color: #3B4455;\n",
              "      --fill-color: #D2E3FC;\n",
              "      --hover-bg-color: #434B5C;\n",
              "      --hover-fill-color: #FFFFFF;\n",
              "      --disabled-bg-color: #3B4455;\n",
              "      --disabled-fill-color: #666;\n",
              "  }\n",
              "\n",
              "  .colab-df-quickchart {\n",
              "    background-color: var(--bg-color);\n",
              "    border: none;\n",
              "    border-radius: 50%;\n",
              "    cursor: pointer;\n",
              "    display: none;\n",
              "    fill: var(--fill-color);\n",
              "    height: 32px;\n",
              "    padding: 0;\n",
              "    width: 32px;\n",
              "  }\n",
              "\n",
              "  .colab-df-quickchart:hover {\n",
              "    background-color: var(--hover-bg-color);\n",
              "    box-shadow: 0 1px 2px rgba(60, 64, 67, 0.3), 0 1px 3px 1px rgba(60, 64, 67, 0.15);\n",
              "    fill: var(--button-hover-fill-color);\n",
              "  }\n",
              "\n",
              "  .colab-df-quickchart-complete:disabled,\n",
              "  .colab-df-quickchart-complete:disabled:hover {\n",
              "    background-color: var(--disabled-bg-color);\n",
              "    fill: var(--disabled-fill-color);\n",
              "    box-shadow: none;\n",
              "  }\n",
              "\n",
              "  .colab-df-spinner {\n",
              "    border: 2px solid var(--fill-color);\n",
              "    border-color: transparent;\n",
              "    border-bottom-color: var(--fill-color);\n",
              "    animation:\n",
              "      spin 1s steps(1) infinite;\n",
              "  }\n",
              "\n",
              "  @keyframes spin {\n",
              "    0% {\n",
              "      border-color: transparent;\n",
              "      border-bottom-color: var(--fill-color);\n",
              "      border-left-color: var(--fill-color);\n",
              "    }\n",
              "    20% {\n",
              "      border-color: transparent;\n",
              "      border-left-color: var(--fill-color);\n",
              "      border-top-color: var(--fill-color);\n",
              "    }\n",
              "    30% {\n",
              "      border-color: transparent;\n",
              "      border-left-color: var(--fill-color);\n",
              "      border-top-color: var(--fill-color);\n",
              "      border-right-color: var(--fill-color);\n",
              "    }\n",
              "    40% {\n",
              "      border-color: transparent;\n",
              "      border-right-color: var(--fill-color);\n",
              "      border-top-color: var(--fill-color);\n",
              "    }\n",
              "    60% {\n",
              "      border-color: transparent;\n",
              "      border-right-color: var(--fill-color);\n",
              "    }\n",
              "    80% {\n",
              "      border-color: transparent;\n",
              "      border-right-color: var(--fill-color);\n",
              "      border-bottom-color: var(--fill-color);\n",
              "    }\n",
              "    90% {\n",
              "      border-color: transparent;\n",
              "      border-bottom-color: var(--fill-color);\n",
              "    }\n",
              "  }\n",
              "</style>\n",
              "\n",
              "  <script>\n",
              "    async function quickchart(key) {\n",
              "      const quickchartButtonEl =\n",
              "        document.querySelector('#' + key + ' button');\n",
              "      quickchartButtonEl.disabled = true;  // To prevent multiple clicks.\n",
              "      quickchartButtonEl.classList.add('colab-df-spinner');\n",
              "      try {\n",
              "        const charts = await google.colab.kernel.invokeFunction(\n",
              "            'suggestCharts', [key], {});\n",
              "      } catch (error) {\n",
              "        console.error('Error during call to suggestCharts:', error);\n",
              "      }\n",
              "      quickchartButtonEl.classList.remove('colab-df-spinner');\n",
              "      quickchartButtonEl.classList.add('colab-df-quickchart-complete');\n",
              "    }\n",
              "    (() => {\n",
              "      let quickchartButtonEl =\n",
              "        document.querySelector('#df-47419b48-3917-437e-a577-56ac9aa4cb69 button');\n",
              "      quickchartButtonEl.style.display =\n",
              "        google.colab.kernel.accessAllowed ? 'block' : 'none';\n",
              "    })();\n",
              "  </script>\n",
              "</div>\n",
              "\n",
              "    </div>\n",
              "  </div>\n"
            ],
            "application/vnd.google.colaboratory.intrinsic+json": {
              "type": "dataframe",
              "variable_name": "df",
              "summary": "{\n  \"name\": \"df\",\n  \"rows\": 500,\n  \"fields\": [\n    {\n      \"column\": \"loss\",\n      \"properties\": {\n        \"dtype\": \"number\",\n        \"std\": 0.14802068961480544,\n        \"min\": 0.00848395021850636,\n        \"max\": 1.8418567125049292,\n        \"num_unique_values\": 500,\n        \"samples\": [\n          0.01194438070178548,\n          0.06612038275369583,\n          0.011504928505064857\n        ],\n        \"semantic_type\": \"\",\n        \"description\": \"\"\n      }\n    }\n  ]\n}"
            }
          },
          "metadata": {},
          "execution_count": 20
        }
      ]
    },
    {
      "cell_type": "code",
      "source": [
        "h1 = go.Scatter(y=df['loss'],\n",
        "                    mode=\"lines\", line=dict(\n",
        "                    width=2,\n",
        "                    color='blue'),\n",
        "                    name=\"loss\")\n",
        "\n",
        "data = [h1]\n",
        "\n",
        "layout1 = go.Layout(title='Loss',\n",
        "                   xaxis=dict(title='Epochs'),\n",
        "                   yaxis=dict(title=''))\n",
        "fig1 = go.Figure(data, layout=layout1)\n",
        "plotly.offline.iplot(fig1)"
      ],
      "metadata": {
        "colab": {
          "base_uri": "https://localhost:8080/",
          "height": 542
        },
        "id": "2VXGa1YgICZT",
        "outputId": "a80a5e33-0c20-4f67-d8d1-d01b2b0ad17b"
      },
      "execution_count": 21,
      "outputs": [
        {
          "output_type": "display_data",
          "data": {
            "text/html": [
              "<html>\n",
              "<head><meta charset=\"utf-8\" /></head>\n",
              "<body>\n",
              "    <div>            <script src=\"https://cdnjs.cloudflare.com/ajax/libs/mathjax/2.7.5/MathJax.js?config=TeX-AMS-MML_SVG\"></script><script type=\"text/javascript\">if (window.MathJax && window.MathJax.Hub && window.MathJax.Hub.Config) {window.MathJax.Hub.Config({SVG: {font: \"STIX-Web\"}});}</script>                <script type=\"text/javascript\">window.PlotlyConfig = {MathJaxConfig: 'local'};</script>\n",
              "        <script charset=\"utf-8\" src=\"https://cdn.plot.ly/plotly-2.24.1.min.js\"></script>                <div id=\"738f39f2-0c9d-46bc-918d-bb79790b99f2\" class=\"plotly-graph-div\" style=\"height:525px; width:100%;\"></div>            <script type=\"text/javascript\">                                    window.PLOTLYENV=window.PLOTLYENV || {};                                    if (document.getElementById(\"738f39f2-0c9d-46bc-918d-bb79790b99f2\")) {                    Plotly.newPlot(                        \"738f39f2-0c9d-46bc-918d-bb79790b99f2\",                        [{\"line\":{\"color\":\"blue\",\"width\":2},\"mode\":\"lines\",\"name\":\"loss\",\"y\":[1.8418567125049292,1.4054542068195441,1.099785604207117,0.9379929737832969,0.8292815897099746,0.742313927462187,0.6684107777811744,0.6046213128341693,0.5496690236589064,0.5025239063983816,0.46206063217588833,0.42716273451850784,0.3968497425279242,0.3703165688438848,0.3469192780713585,0.3261454406422128,0.3075855341674199,0.29090967767150194,0.27584972654607265,0.26218571903406374,0.2497356283197102,0.2383475728152267,0.22789384748380956,0.21826630912520162,0.2093727754088568,0.20113418935755706,0.19348236700425023,0.1863581933770053,0.17971016620396127,0.17349321161272954,0.16766771432674318,0.1621987183268083,0.15705526397889297,0.15220983516752426,0.14763789568510072,0.1433174984885491,0.13922895479072345,0.13535455255543724,0.13167831599584767,0.12818579927187973,0.12486390884462686,0.12170074995003806,0.11868549345801707,0.11580826002991201,0.11306001901064534,0.11043249991715966,0.10791811473237402,0.10550988949902543,0.10320140394280625,0.10098673804872846,0.09886042467626766,0.0968174074336458,0.09485300314445852,0.0929628683346445,0.09114296924769537,0.08938955496356399,0.08769913325403353,0.08606844885606073,0.0844944638862005,0.08297434015480304,0.08150542316920208,0.0800852276413624,0.07871142433809454,0.0773818281315009,0.07609438712426916,0.07484717273913646,0.07363837067465268,0.07246627264052981,0.07132926879561978,0.07022584082009828,0.069154555560921,0.06811405919620041,0.06710307186994277,0.06612038275369583,0.06516484549616904,0.06423537402588478,0.06333093867545535,0.06245056259922579,0.06159331845881538,0.06075832535357651,0.05994474597521104,0.05915178396776187,0.05837868147597008,0.05762471686657406,0.056889202608547296,0.056171483299550844,0.0554709338270195,0.054786957653339165,0.05411898521549577,0.05346647243042356,0.05282889929803158,0.052205768594576756,0.051596604649670225,0.051000952200767065,0.05041837531949744,0.049848456404661824,0.04929079523713289,0.04874500809228917,0.04821072690595459,0.04768759849013533,0.04717528379513524,0.046673457214896276,0.04618180593265167,0.0457000293042008,0.04522783827631826,0.044764954837993545,0.04431111150237069,0.04386605081740987,0.04342952490344012,0.04300129501590163,0.04258113113169877,0.042168811557696514,0.04176412255999537,0.04136685801271556,0.04097681906510852,0.040593813825894214,0.04021765706379769,0.03984816992332885,0.03948517965490957,0.03912851935851615,0.038778027740056134,0.038433548879751395,0.03809493201184538,0.03776203131499719,0.037434705712764714,0.037112818683617085,0.03679623807995266,0.03648483595562981,0.03617848840154949,0.03587707538885591,0.03558048061934913,0.03528859138272612,0.03500129842029207,0.034718495794803045,0.03444008076612214,0.03416595367238992,0.03389601781642691,0.0336301793571027,0.03336834720542076,0.03311043292508345,0.032856350637314076,0.032606016929725735,0.032359350769038765,0.03211627341745871,0.031876708352538224,0.03164058119035562,0.03140781961185044,0.03117835329216806,0.0309521138328702,0.030729034696877627,0.030509051146018155,0.030292100181058986,0.030078120484110037,0.029867052363289258,0.029658837699548173,0.029453419895559475,0.02925074382657528,0.029050755793167248,0.028853403475766405,0.02865863589092293,0.02846640334921059,0.02827665741470522,0.0280893508659684,0.027904437658472208,0.027721872888403557,0.027541612757789526,0.027363614540888075,0.027187836551790724,0.02701423811318766,0.026842779526245798,0.02667342204155526,0.026506127831099374,0.02634085996120736,0.026177582366449483,0.026016259824436835,0.025856857931489525,0.025699343079138688,0.025543682431429068,0.025389843902991333,0.02523779613785309,0.025087508488960332,0.024938950998381844,0.02479209437816999,0.024646909991852668,0.024503369836532972,0.02436144652557238,0.024221113271836934,0.024082343871483742,0.023945112688269037,0.02380939463835716,0.023675165175612873,0.023542400277358957,0.023411076430581795,0.02328117061856912,0.02315266030796387,0.023025523436219265,0.022899738399441052,0.02277528404060253,0.022652139638119653,0.02253028489477319,0.022409699926965745,0.022290365254302207,0.022172261789481954,0.022055370828492467,0.02193967404109354,0.02182515346158242,0.021711791479830128,0.02159957083257978,0.02148847459499825,0.021378486172472188,0.02126958929264059,0.02116176799765602,0.021055006636666766,0.02094928985851244,0.020844602604626637,0.02074093010213901,0.020638257857171143,0.020536571648319055,0.020435857520317333,0.02033610177787784,0.020237290979698563,0.020139411932636356,0.020042451686038975,0.019946397526230692,0.019851236971147518,0.019756957765116552,0.01966354787377547,0.0195709954791275,0.01947928897472799,0.019388416960998318,0.019298368240663166,0.019209131814307747,0.019120696876050867,0.01903305280933073,0.018946189182799847,0.018860095746325866,0.01877476242709517,0.018690179325816163,0.018606336713019242,0.018523225025450615,0.01844083486255743,0.01835915698306109,0.018278182301616694,0.018197901885555687,0.01811830695170965,0.018039388863312442,0.017961139126979112,0.01788354938975877,0.01780661143625957,0.017730317185843843,0.017654658689891224,0.017579628129128038,0.017505217811020796,0.01743142016723237,0.017358227751139137,0.017285633235406703,0.017213629409623506,0.017142209177990277,0.017071365557063678,0.01700109167355294,0.016931380762167998,0.01686222616351745,0.016793621322055557,0.016725559784076378,0.01665803519575406,0.016591041301228158,0.016524571940732587,0.016458621048766983,0.016393182652309917,0.016328250869071782,0.016263819905787805,0.01619988405654844,0.016136437701167752,0.01607347530358769,0.01601099141031789,0.015948980648909906,0.01588743772646502,0.01582635742817474,0.01576573461589335,0.015705564226741107,0.015645841271738507,0.015586560834469187,0.015527718069772344,0.015469308202462836,0.0154113265260788,0.015353768401655976,0.015296629256527972,0.015239904583152095,0.015183589937959789,0.015127680940231399,0.01507217327099432,0.015017062671944378,0.014962344944389491,0.014908015948215319,0.01485407160087234,0.01480050787638359,0.014747320804373047,0.014694506469113825,0.014642061008595525,0.01458998061361097,0.014538261526861131,0.014486900042078206,0.014435892503166455,0.01438523530336007,0.0143349248843982,0.014284957735715966,0.0142353303936521,0.014186039440671703,0.014137081504604819,0.014088453257899803,0.01404015141689122,0.013992172741082158,0.01394451403244075,0.013897172134709857,0.013850143932730714,0.013803426351779013,0.013757016356914434,0.013710910952342004,0.013665107180786054,0.01361960212287618,0.01357439289654446,0.013529476656434601,0.013484850593321832,0.01344051193354387,0.013396457938442755,0.013352685903816781,0.013309193159382901,0.013265977068249057,0.013223035026396305,0.013180364462170505,0.013137962835783324,0.013095827638822638,0.013053956393771514,0.013012346653536363,0.012970996000983464,0.012929902048483962,0.012889062437467189,0.01284847483798179,0.01280813694826514,0.012768046494320126,0.012728201229499723,0.012688598934098834,0.012649237414953593,0.012610114505047534,0.012571228063124877,0.012532575973310645,0.012494156144737381,0.012455966511178413,0.012418005030687568,0.012380269685245278,0.012342758480410537,0.012305469444979244,0.012268400630648182,0.01223155011168495,0.012194915984603498,0.012158496367845254,0.012122289401465668,0.01208629324682603,0.012050506086290828,0.012014926122929877,0.01197955158022563,0.01194438070178548,0.011909411751058795,0.01187464301105877,0.011840072784088903,0.011805699391474016,0.011771521173295857,0.011737536488132813,0.011703743712804294,0.011670141242119065,0.011636727488627777,0.011603500882379707,0.011570459870683183,0.011537602917870224,0.011504928505064857,0.011472435129955166,0.011440121306569132,0.01140798556505402,0.011376026451459331,0.011344242527523259,0.011312632370462572,0.011281194572765857,0.011249927741989933,0.01121883050055979,0.011187901485571309,0.011157139348597458,0.01112654275549738,0.011096110386228446,0.011065840934661307,0.011035733108397918,0.011005785628592241,0.010975997229773937,0.010946366659674536,0.010916892679056602,0.010887574061545311,0.010858409593462695,0.010829398073664434,0.010800538313379264,0.010771829136050544,0.010743269377180618,0.010714857884177241,0.010686593516202495,0.010658475144023937,0.010630501649868097,0.010602671927275969,0.010574984880960854,0.010547439426668307,0.010520034491038239,0.010492769011468731,0.010465641935982479,0.010438652223094638,0.010411798841682942,0.010385080770859747,0.010358496999845767,0.010332046527845811,0.010305728363926419,0.010279541526895069,0.0102534850451813,0.010227557956719565,0.010201759308833738,0.010176088158123273,0.010150543570351129,0.010125124620333124,0.010099830391829127,0.010074659977435525,0.010049612478479521,0.010024687004914705,0.00999988267521824,0.00997519861628951,0.009950633963350164,0.009926187859845599,0.00990185945734773,0.009877647915459453,0.009853552401720036,0.009829572091512018,0.009805706167969618,0.009781953821887953,0.009758314251634058,0.009734786663058716,0.009711370269409717,0.009688064291246306,0.009664867956354774,0.009641780499665117,0.00961880116316919,0.009595929195839483,0.009573163853549362,0.009550504398994322,0.009527950101614354,0.009505500237517095,0.00948315408940247,0.009460910946487969,0.009438770104435085,0.009416730865276871,0.00939479253734614,0.009372954435204991,0.009351215879575034,0.00932957619726858,0.00930803472112092,0.009286590789923298,0.009265243748356841,0.009243992946927446,0.009222837741901392,0.00920177749524188,0.009180811574546434,0.009159939352985012,0.009139160209239099,0.009118473527441363,0.009097878697116396,0.009077375113121943,0.009056962175591057,0.009036639289874885,0.009016405866486436,0.008996261321044762,0.008976205074220029,0.008956236551679318,0.008936355184033047,0.00891656040678206,0.008896851660265506,0.00887722838960926,0.008857690044675114,0.00883823608001042,0.008818865954798638,0.00879957913281034,0.008780375082354774,0.008761253276232256,0.008742213191686924,0.008723254310360265,0.008704376118245082,0.008685578105640168,0.00866685976710546,0.008648220601417702,0.008629660111526858,0.00861117780451279,0.008592773191542736,0.008574445787829085,0.008556195112587857,0.008538020688997571,0.008519922044158683,0.00850189870905342,0.00848395021850636],\"type\":\"scatter\"}],                        {\"template\":{\"data\":{\"barpolar\":[{\"marker\":{\"line\":{\"color\":\"#E5ECF6\",\"width\":0.5},\"pattern\":{\"fillmode\":\"overlay\",\"size\":10,\"solidity\":0.2}},\"type\":\"barpolar\"}],\"bar\":[{\"error_x\":{\"color\":\"#2a3f5f\"},\"error_y\":{\"color\":\"#2a3f5f\"},\"marker\":{\"line\":{\"color\":\"#E5ECF6\",\"width\":0.5},\"pattern\":{\"fillmode\":\"overlay\",\"size\":10,\"solidity\":0.2}},\"type\":\"bar\"}],\"carpet\":[{\"aaxis\":{\"endlinecolor\":\"#2a3f5f\",\"gridcolor\":\"white\",\"linecolor\":\"white\",\"minorgridcolor\":\"white\",\"startlinecolor\":\"#2a3f5f\"},\"baxis\":{\"endlinecolor\":\"#2a3f5f\",\"gridcolor\":\"white\",\"linecolor\":\"white\",\"minorgridcolor\":\"white\",\"startlinecolor\":\"#2a3f5f\"},\"type\":\"carpet\"}],\"choropleth\":[{\"colorbar\":{\"outlinewidth\":0,\"ticks\":\"\"},\"type\":\"choropleth\"}],\"contourcarpet\":[{\"colorbar\":{\"outlinewidth\":0,\"ticks\":\"\"},\"type\":\"contourcarpet\"}],\"contour\":[{\"colorbar\":{\"outlinewidth\":0,\"ticks\":\"\"},\"colorscale\":[[0.0,\"#0d0887\"],[0.1111111111111111,\"#46039f\"],[0.2222222222222222,\"#7201a8\"],[0.3333333333333333,\"#9c179e\"],[0.4444444444444444,\"#bd3786\"],[0.5555555555555556,\"#d8576b\"],[0.6666666666666666,\"#ed7953\"],[0.7777777777777778,\"#fb9f3a\"],[0.8888888888888888,\"#fdca26\"],[1.0,\"#f0f921\"]],\"type\":\"contour\"}],\"heatmapgl\":[{\"colorbar\":{\"outlinewidth\":0,\"ticks\":\"\"},\"colorscale\":[[0.0,\"#0d0887\"],[0.1111111111111111,\"#46039f\"],[0.2222222222222222,\"#7201a8\"],[0.3333333333333333,\"#9c179e\"],[0.4444444444444444,\"#bd3786\"],[0.5555555555555556,\"#d8576b\"],[0.6666666666666666,\"#ed7953\"],[0.7777777777777778,\"#fb9f3a\"],[0.8888888888888888,\"#fdca26\"],[1.0,\"#f0f921\"]],\"type\":\"heatmapgl\"}],\"heatmap\":[{\"colorbar\":{\"outlinewidth\":0,\"ticks\":\"\"},\"colorscale\":[[0.0,\"#0d0887\"],[0.1111111111111111,\"#46039f\"],[0.2222222222222222,\"#7201a8\"],[0.3333333333333333,\"#9c179e\"],[0.4444444444444444,\"#bd3786\"],[0.5555555555555556,\"#d8576b\"],[0.6666666666666666,\"#ed7953\"],[0.7777777777777778,\"#fb9f3a\"],[0.8888888888888888,\"#fdca26\"],[1.0,\"#f0f921\"]],\"type\":\"heatmap\"}],\"histogram2dcontour\":[{\"colorbar\":{\"outlinewidth\":0,\"ticks\":\"\"},\"colorscale\":[[0.0,\"#0d0887\"],[0.1111111111111111,\"#46039f\"],[0.2222222222222222,\"#7201a8\"],[0.3333333333333333,\"#9c179e\"],[0.4444444444444444,\"#bd3786\"],[0.5555555555555556,\"#d8576b\"],[0.6666666666666666,\"#ed7953\"],[0.7777777777777778,\"#fb9f3a\"],[0.8888888888888888,\"#fdca26\"],[1.0,\"#f0f921\"]],\"type\":\"histogram2dcontour\"}],\"histogram2d\":[{\"colorbar\":{\"outlinewidth\":0,\"ticks\":\"\"},\"colorscale\":[[0.0,\"#0d0887\"],[0.1111111111111111,\"#46039f\"],[0.2222222222222222,\"#7201a8\"],[0.3333333333333333,\"#9c179e\"],[0.4444444444444444,\"#bd3786\"],[0.5555555555555556,\"#d8576b\"],[0.6666666666666666,\"#ed7953\"],[0.7777777777777778,\"#fb9f3a\"],[0.8888888888888888,\"#fdca26\"],[1.0,\"#f0f921\"]],\"type\":\"histogram2d\"}],\"histogram\":[{\"marker\":{\"pattern\":{\"fillmode\":\"overlay\",\"size\":10,\"solidity\":0.2}},\"type\":\"histogram\"}],\"mesh3d\":[{\"colorbar\":{\"outlinewidth\":0,\"ticks\":\"\"},\"type\":\"mesh3d\"}],\"parcoords\":[{\"line\":{\"colorbar\":{\"outlinewidth\":0,\"ticks\":\"\"}},\"type\":\"parcoords\"}],\"pie\":[{\"automargin\":true,\"type\":\"pie\"}],\"scatter3d\":[{\"line\":{\"colorbar\":{\"outlinewidth\":0,\"ticks\":\"\"}},\"marker\":{\"colorbar\":{\"outlinewidth\":0,\"ticks\":\"\"}},\"type\":\"scatter3d\"}],\"scattercarpet\":[{\"marker\":{\"colorbar\":{\"outlinewidth\":0,\"ticks\":\"\"}},\"type\":\"scattercarpet\"}],\"scattergeo\":[{\"marker\":{\"colorbar\":{\"outlinewidth\":0,\"ticks\":\"\"}},\"type\":\"scattergeo\"}],\"scattergl\":[{\"marker\":{\"colorbar\":{\"outlinewidth\":0,\"ticks\":\"\"}},\"type\":\"scattergl\"}],\"scattermapbox\":[{\"marker\":{\"colorbar\":{\"outlinewidth\":0,\"ticks\":\"\"}},\"type\":\"scattermapbox\"}],\"scatterpolargl\":[{\"marker\":{\"colorbar\":{\"outlinewidth\":0,\"ticks\":\"\"}},\"type\":\"scatterpolargl\"}],\"scatterpolar\":[{\"marker\":{\"colorbar\":{\"outlinewidth\":0,\"ticks\":\"\"}},\"type\":\"scatterpolar\"}],\"scatter\":[{\"fillpattern\":{\"fillmode\":\"overlay\",\"size\":10,\"solidity\":0.2},\"type\":\"scatter\"}],\"scatterternary\":[{\"marker\":{\"colorbar\":{\"outlinewidth\":0,\"ticks\":\"\"}},\"type\":\"scatterternary\"}],\"surface\":[{\"colorbar\":{\"outlinewidth\":0,\"ticks\":\"\"},\"colorscale\":[[0.0,\"#0d0887\"],[0.1111111111111111,\"#46039f\"],[0.2222222222222222,\"#7201a8\"],[0.3333333333333333,\"#9c179e\"],[0.4444444444444444,\"#bd3786\"],[0.5555555555555556,\"#d8576b\"],[0.6666666666666666,\"#ed7953\"],[0.7777777777777778,\"#fb9f3a\"],[0.8888888888888888,\"#fdca26\"],[1.0,\"#f0f921\"]],\"type\":\"surface\"}],\"table\":[{\"cells\":{\"fill\":{\"color\":\"#EBF0F8\"},\"line\":{\"color\":\"white\"}},\"header\":{\"fill\":{\"color\":\"#C8D4E3\"},\"line\":{\"color\":\"white\"}},\"type\":\"table\"}]},\"layout\":{\"annotationdefaults\":{\"arrowcolor\":\"#2a3f5f\",\"arrowhead\":0,\"arrowwidth\":1},\"autotypenumbers\":\"strict\",\"coloraxis\":{\"colorbar\":{\"outlinewidth\":0,\"ticks\":\"\"}},\"colorscale\":{\"diverging\":[[0,\"#8e0152\"],[0.1,\"#c51b7d\"],[0.2,\"#de77ae\"],[0.3,\"#f1b6da\"],[0.4,\"#fde0ef\"],[0.5,\"#f7f7f7\"],[0.6,\"#e6f5d0\"],[0.7,\"#b8e186\"],[0.8,\"#7fbc41\"],[0.9,\"#4d9221\"],[1,\"#276419\"]],\"sequential\":[[0.0,\"#0d0887\"],[0.1111111111111111,\"#46039f\"],[0.2222222222222222,\"#7201a8\"],[0.3333333333333333,\"#9c179e\"],[0.4444444444444444,\"#bd3786\"],[0.5555555555555556,\"#d8576b\"],[0.6666666666666666,\"#ed7953\"],[0.7777777777777778,\"#fb9f3a\"],[0.8888888888888888,\"#fdca26\"],[1.0,\"#f0f921\"]],\"sequentialminus\":[[0.0,\"#0d0887\"],[0.1111111111111111,\"#46039f\"],[0.2222222222222222,\"#7201a8\"],[0.3333333333333333,\"#9c179e\"],[0.4444444444444444,\"#bd3786\"],[0.5555555555555556,\"#d8576b\"],[0.6666666666666666,\"#ed7953\"],[0.7777777777777778,\"#fb9f3a\"],[0.8888888888888888,\"#fdca26\"],[1.0,\"#f0f921\"]]},\"colorway\":[\"#636efa\",\"#EF553B\",\"#00cc96\",\"#ab63fa\",\"#FFA15A\",\"#19d3f3\",\"#FF6692\",\"#B6E880\",\"#FF97FF\",\"#FECB52\"],\"font\":{\"color\":\"#2a3f5f\"},\"geo\":{\"bgcolor\":\"white\",\"lakecolor\":\"white\",\"landcolor\":\"#E5ECF6\",\"showlakes\":true,\"showland\":true,\"subunitcolor\":\"white\"},\"hoverlabel\":{\"align\":\"left\"},\"hovermode\":\"closest\",\"mapbox\":{\"style\":\"light\"},\"paper_bgcolor\":\"white\",\"plot_bgcolor\":\"#E5ECF6\",\"polar\":{\"angularaxis\":{\"gridcolor\":\"white\",\"linecolor\":\"white\",\"ticks\":\"\"},\"bgcolor\":\"#E5ECF6\",\"radialaxis\":{\"gridcolor\":\"white\",\"linecolor\":\"white\",\"ticks\":\"\"}},\"scene\":{\"xaxis\":{\"backgroundcolor\":\"#E5ECF6\",\"gridcolor\":\"white\",\"gridwidth\":2,\"linecolor\":\"white\",\"showbackground\":true,\"ticks\":\"\",\"zerolinecolor\":\"white\"},\"yaxis\":{\"backgroundcolor\":\"#E5ECF6\",\"gridcolor\":\"white\",\"gridwidth\":2,\"linecolor\":\"white\",\"showbackground\":true,\"ticks\":\"\",\"zerolinecolor\":\"white\"},\"zaxis\":{\"backgroundcolor\":\"#E5ECF6\",\"gridcolor\":\"white\",\"gridwidth\":2,\"linecolor\":\"white\",\"showbackground\":true,\"ticks\":\"\",\"zerolinecolor\":\"white\"}},\"shapedefaults\":{\"line\":{\"color\":\"#2a3f5f\"}},\"ternary\":{\"aaxis\":{\"gridcolor\":\"white\",\"linecolor\":\"white\",\"ticks\":\"\"},\"baxis\":{\"gridcolor\":\"white\",\"linecolor\":\"white\",\"ticks\":\"\"},\"bgcolor\":\"#E5ECF6\",\"caxis\":{\"gridcolor\":\"white\",\"linecolor\":\"white\",\"ticks\":\"\"}},\"title\":{\"x\":0.05},\"xaxis\":{\"automargin\":true,\"gridcolor\":\"white\",\"linecolor\":\"white\",\"ticks\":\"\",\"title\":{\"standoff\":15},\"zerolinecolor\":\"white\",\"zerolinewidth\":2},\"yaxis\":{\"automargin\":true,\"gridcolor\":\"white\",\"linecolor\":\"white\",\"ticks\":\"\",\"title\":{\"standoff\":15},\"zerolinecolor\":\"white\",\"zerolinewidth\":2}}},\"title\":{\"text\":\"Loss\"},\"xaxis\":{\"title\":{\"text\":\"Epochs\"}},\"yaxis\":{\"title\":{\"text\":\"\"}}},                        {\"responsive\": true}                    ).then(function(){\n",
              "                            \n",
              "var gd = document.getElementById('738f39f2-0c9d-46bc-918d-bb79790b99f2');\n",
              "var x = new MutationObserver(function (mutations, observer) {{\n",
              "        var display = window.getComputedStyle(gd).display;\n",
              "        if (!display || display === 'none') {{\n",
              "            console.log([gd, 'removed!']);\n",
              "            Plotly.purge(gd);\n",
              "            observer.disconnect();\n",
              "        }}\n",
              "}});\n",
              "\n",
              "// Listen for the removal of the full notebook cells\n",
              "var notebookContainer = gd.closest('#notebook-container');\n",
              "if (notebookContainer) {{\n",
              "    x.observe(notebookContainer, {childList: true});\n",
              "}}\n",
              "\n",
              "// Listen for the clearing of the current output cell\n",
              "var outputEl = gd.closest('.output');\n",
              "if (outputEl) {{\n",
              "    x.observe(outputEl, {childList: true});\n",
              "}}\n",
              "\n",
              "                        })                };                            </script>        </div>\n",
              "</body>\n",
              "</html>"
            ]
          },
          "metadata": {}
        }
      ]
    },
    {
      "cell_type": "code",
      "source": [],
      "metadata": {
        "id": "1a02LfN7IKqz"
      },
      "execution_count": null,
      "outputs": []
    }
  ]
}